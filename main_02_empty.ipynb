{
 "cells": [
  {
   "cell_type": "code",
   "execution_count": null,
   "id": "5c49fd37",
   "metadata": {},
   "outputs": [],
   "source": [
    "!pip install pandasql"
   ]
  },
  {
   "cell_type": "raw",
   "id": "f92d9aaf",
   "metadata": {},
   "source": [
    "Расшифровка значений таргета\n",
    "\"\"\"\n",
    "0: 1-29 days past due \n",
    "1: 30-59 days past due\n",
    "2: 60-89 days overdue \n",
    "3: 90-119 days overdue \n",
    "4: 120-149 days overdue\n",
    "5: Overdue or bad debts, write-offs for more than 150 days \n",
    "C: paid off that month \n",
    "X: No loan for the month\n",
    "\"\"\""
   ]
  },
  {
   "cell_type": "code",
   "execution_count": null,
   "id": "4093f4c7",
   "metadata": {},
   "outputs": [],
   "source": [
    "!git clone https://github.com/ls25-17/pandas_and_sql_tasks.git"
   ]
  },
  {
   "cell_type": "code",
   "execution_count": null,
   "id": "5bc12bb5",
   "metadata": {},
   "outputs": [],
   "source": [
    "cd pandas_and_sql_tasks"
   ]
  },
  {
   "cell_type": "code",
   "execution_count": null,
   "id": "2883a435",
   "metadata": {},
   "outputs": [],
   "source": [
    "import pandas as pd\n",
    "import sqlite3\n",
    "import pandasql as ps"
   ]
  },
  {
   "cell_type": "code",
   "execution_count": null,
   "id": "7e5f1a3b",
   "metadata": {},
   "outputs": [],
   "source": [
    "# импортим файл\n",
    "data = ..."
   ]
  },
  {
   "cell_type": "code",
   "execution_count": null,
   "id": "d4bce334",
   "metadata": {},
   "outputs": [],
   "source": [
    "# верхнеуровнево смотрим на него (первые/последние N строчек)"
   ]
  },
  {
   "cell_type": "code",
   "execution_count": null,
   "id": "7fc5d2de",
   "metadata": {},
   "outputs": [],
   "source": [
    "conn = sqlite3.connect(':memory:') \n",
    " \n",
    "# сохранить DataFrame как таблицу в базе данных \n",
    "data.to_sql('my_table', conn, index=False) "
   ]
  },
  {
   "cell_type": "code",
   "execution_count": null,
   "id": "a3949d54",
   "metadata": {},
   "outputs": [],
   "source": [
    "# выводим список колонок"
   ]
  },
  {
   "cell_type": "code",
   "execution_count": null,
   "id": "dbe460a9",
   "metadata": {},
   "outputs": [],
   "source": [
    "# SQL\n",
    "q1 = \"\"\"\n",
    "    SELECT * from my_table\n",
    "    \"\"\"\n",
    "\n",
    "result = pd.read_sql_query(q1, conn) \n",
    "result.head()"
   ]
  }
 ],
 "metadata": {
  "anaconda-cloud": {},
  "kernelspec": {
   "display_name": "Python 3 (ipykernel)",
   "language": "python",
   "name": "python3"
  },
  "language_info": {
   "codemirror_mode": {
    "name": "ipython",
    "version": 3
   },
   "file_extension": ".py",
   "mimetype": "text/x-python",
   "name": "python",
   "nbconvert_exporter": "python",
   "pygments_lexer": "ipython3",
   "version": "3.9.7"
  }
 },
 "nbformat": 4,
 "nbformat_minor": 5
}
